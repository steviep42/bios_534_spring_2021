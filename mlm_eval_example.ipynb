{
 "cells": [
  {
   "cell_type": "code",
   "execution_count": 254,
   "metadata": {},
   "outputs": [
    {
     "name": "stdout",
     "output_type": "stream",
     "text": [
      "Number of trees: 0050 Accuracy: 0.757 Standard Deviation: (0.046)\n",
      "Number of trees: 0100 Accuracy: 0.766 Standard Deviation: (0.049)\n",
      "Number of trees: 0500 Accuracy: 0.753 Standard Deviation: (0.050)\n",
      "Number of trees: 1000 Accuracy: 0.757 Standard Deviation: (0.051)\n",
      "Number of trees: 2500 Accuracy: 0.755 Standard Deviation: (0.056)\n"
     ]
    },
    {
     "data": {
      "text/plain": [
       "{'whiskers': [<matplotlib.lines.Line2D at 0x1a22acf150>,\n",
       "  <matplotlib.lines.Line2D at 0x1a22acf590>,\n",
       "  <matplotlib.lines.Line2D at 0x1a229cc2d0>,\n",
       "  <matplotlib.lines.Line2D at 0x1a229cc6d0>,\n",
       "  <matplotlib.lines.Line2D at 0x1a229e2350>,\n",
       "  <matplotlib.lines.Line2D at 0x1a229e2790>,\n",
       "  <matplotlib.lines.Line2D at 0x1a229f6450>,\n",
       "  <matplotlib.lines.Line2D at 0x1a229f6850>,\n",
       "  <matplotlib.lines.Line2D at 0x1a22afd550>,\n",
       "  <matplotlib.lines.Line2D at 0x1a22afd910>],\n",
       " 'caps': [<matplotlib.lines.Line2D at 0x1a22acf9d0>,\n",
       "  <matplotlib.lines.Line2D at 0x1a22acfe10>,\n",
       "  <matplotlib.lines.Line2D at 0x1a229ccad0>,\n",
       "  <matplotlib.lines.Line2D at 0x1a229cced0>,\n",
       "  <matplotlib.lines.Line2D at 0x1a229e2b90>,\n",
       "  <matplotlib.lines.Line2D at 0x1a229e2fd0>,\n",
       "  <matplotlib.lines.Line2D at 0x1a229f6c50>,\n",
       "  <matplotlib.lines.Line2D at 0x1a22af1090>,\n",
       "  <matplotlib.lines.Line2D at 0x1a22afdd10>,\n",
       "  <matplotlib.lines.Line2D at 0x1a22b09110>],\n",
       " 'boxes': [<matplotlib.lines.Line2D at 0x1a22abb8d0>,\n",
       "  <matplotlib.lines.Line2D at 0x1a229c2ed0>,\n",
       "  <matplotlib.lines.Line2D at 0x1a229d5ed0>,\n",
       "  <matplotlib.lines.Line2D at 0x1a229eafd0>,\n",
       "  <matplotlib.lines.Line2D at 0x1a22afd0d0>],\n",
       " 'medians': [<matplotlib.lines.Line2D at 0x1a229c22d0>,\n",
       "  <matplotlib.lines.Line2D at 0x1a229d5310>,\n",
       "  <matplotlib.lines.Line2D at 0x1a229ea410>,\n",
       "  <matplotlib.lines.Line2D at 0x1a22af1490>,\n",
       "  <matplotlib.lines.Line2D at 0x1a22b09510>],\n",
       " 'fliers': [<matplotlib.lines.Line2D at 0x1a229c2ad0>,\n",
       "  <matplotlib.lines.Line2D at 0x1a229d5b10>,\n",
       "  <matplotlib.lines.Line2D at 0x1a229eac10>,\n",
       "  <matplotlib.lines.Line2D at 0x1a22af1c90>,\n",
       "  <matplotlib.lines.Line2D at 0x1a22b09d90>],\n",
       " 'means': [<matplotlib.lines.Line2D at 0x1a229c26d0>,\n",
       "  <matplotlib.lines.Line2D at 0x1a229d5710>,\n",
       "  <matplotlib.lines.Line2D at 0x1a229ea810>,\n",
       "  <matplotlib.lines.Line2D at 0x1a22af1890>,\n",
       "  <matplotlib.lines.Line2D at 0x1a22b09950>]}"
      ]
     },
     "execution_count": 254,
     "metadata": {},
     "output_type": "execute_result"
    },
    {
     "data": {
      "image/png": "[encoded data removed]",
      "text/plain": [
       "<Figure size 432x288 with 1 Axes>"
      ]
     },
     "metadata": {
      "needs_background": "light"
     },
     "output_type": "display_data"
    }
   ],
   "source": [
    "from sklearn.model_selection import cross_val_score\n",
    "from sklearn.model_selection import RepeatedStratifiedKFold\n",
    "\n",
    "# get a list of models to evaluate\n",
    "def get_models():\n",
    "    models = dict()\n",
    "    # define number of trees to consider\n",
    "    n_trees = [50, 100, 500, 1000, 2500]\n",
    "    for n in n_trees:\n",
    "        models[str(n)] = BaggingClassifier(n_estimators=n)\n",
    "    return models\n",
    " \n",
    "# evaluate a given model using cross-validation\n",
    "def evaluate_model(model, X, y):\n",
    "    # define the evaluation procedure\n",
    "    cv = RepeatedStratifiedKFold(n_splits=10, n_repeats=3, random_state=1)\n",
    "    # evaluate the model and collect the results\n",
    "    scores = cross_validate(model, X_train, y_train, scoring='accuracy',cv=cv,n_jobs=-1)\n",
    "    scores = scores['test_score']\n",
    "    return scores\n",
    " \n",
    "models = get_models()\n",
    "# evaluate the models and store results\n",
    "results, names = list(), list()\n",
    "for name, model in models.items():\n",
    "    # evaluate the model\n",
    "    scores = evaluate_model(model, X_train, y_train)\n",
    "    # store the results\n",
    "    results.append(scores)\n",
    "    names.append(name)\n",
    "    # summarize the performance along the way\n",
    "    print('Number of trees: %s Accuracy: %.3f Standard Deviation: (%.3f)' % (name.zfill(4), np.mean(scores), np.std(scores)))\n",
    "# plot model performance for comparison\n",
    "plt.boxplot(results, labels=names, showmeans=True)"
   ]
  },
  {
   "cell_type": "code",
   "execution_count": 236,
   "metadata": {},
   "outputs": [],
   "source": [
    "cv = RepeatedStratifiedKFold(n_splits=10, n_repeats=3, random_state=1)\n",
    "scores = cross_validate(model, X_train, y_train, scoring='accuracy',cv=cv,n_jobs=-1)\n",
    "#scores = cross_val_score(model, X_train, y_train, scoring='accuracy', cv=cv, n_jobs=-1)"
   ]
  },
  {
   "cell_type": "code",
   "execution_count": 238,
   "metadata": {},
   "outputs": [],
   "source": [
    "scores = scores['test_score']"
   ]
  },
  {
   "cell_type": "code",
   "execution_count": 239,
   "metadata": {},
   "outputs": [
    {
     "data": {
      "text/plain": [
       "array([0.70689655, 0.72413793, 0.74137931, 0.72413793, 0.70689655,\n",
       "       0.72413793, 0.73684211, 0.77192982, 0.77192982, 0.71929825,\n",
       "       0.72413793, 0.70689655, 0.81034483, 0.75862069, 0.75862069,\n",
       "       0.72413793, 0.68421053, 0.73684211, 0.73684211, 0.75438596,\n",
       "       0.84482759, 0.70689655, 0.82758621, 0.62068966, 0.63793103,\n",
       "       0.67241379, 0.75438596, 0.68421053, 0.8245614 , 0.71929825])"
      ]
     },
     "execution_count": 239,
     "metadata": {},
     "output_type": "execute_result"
    }
   ],
   "source": [
    "scores"
   ]
  },
  {
   "cell_type": "code",
   "execution_count": 242,
   "metadata": {},
   "outputs": [
    {
     "data": {
      "text/plain": [
       "{'10': BaggingClassifier(),\n",
       " '50': BaggingClassifier(n_estimators=50),\n",
       " '100': BaggingClassifier(n_estimators=100),\n",
       " '500': BaggingClassifier(n_estimators=500)}"
      ]
     },
     "execution_count": 242,
     "metadata": {},
     "output_type": "execute_result"
    }
   ],
   "source": [
    "models"
   ]
  },
  {
   "cell_type": "code",
   "execution_count": null,
   "metadata": {},
   "outputs": [],
   "source": []
  }
 ],
 "metadata": {
  "kernelspec": {
   "display_name": "Python 3",
   "language": "python",
   "name": "python3"
  },
  "language_info": {
   "codemirror_mode": {
    "name": "ipython",
    "version": 3
   },
   "file_extension": ".py",
   "mimetype": "text/x-python",
   "name": "python",
   "nbconvert_exporter": "python",
   "pygments_lexer": "ipython3",
   "version": "3.7.7"
  }
 },
 "nbformat": 4,
 "nbformat_minor": 4
}
