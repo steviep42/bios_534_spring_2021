{
 "cells": [
  {
   "cell_type": "markdown",
   "metadata": {},
   "source": [
    "# Tuning Models\n",
    "\n",
    "We could look at models individually to see how they perform against each other.  It also provides an opportunity to introduce the concept of hyperparameters which are important to consider since many ML methods will use them. Many people are surprised to learn that random Forests (or even a single Decision Tree) can be used to predict a numeric outcome, but they can be. The advantages of using random Forests include the following:\n",
    "\n",
    "- easy to use\n",
    "- resistant to overfitting\n",
    "- accurate use for non linear models\n",
    "- can be used to predict numeric or binary outcomes \n",
    "\n",
    "Disadvantages include:\n",
    "\n",
    "- the rf function requires setting hyperparameters \n",
    "- adjustment of hyperparameters can be specific to the data set\n",
    "- default vlaues will requie adjustment or \"tuning\"\n",
    "\n",
    "Let's look at some of the tree methods (again) since we don't have to worry about scaling and things like that. We want to see if we can get comparable performance from the various methods. "
   ]
  },
  {
   "cell_type": "code",
   "execution_count": 3,
   "metadata": {},
   "outputs": [],
   "source": [
    "import pandas as pd\n",
    "from sklearn.model_selection import train_test_split\n",
    "\n",
    "url = \"https://raw.githubusercontent.com/steviep42/bios534_spring_2020/master/data/pima.csv\"\n",
    "pm = pd.read_csv(url, sep=',')\n",
    "\n",
    "X = pm.drop('diabetes',axis=1)\n",
    "y = pm.diabetes"
   ]
  },
  {
   "cell_type": "code",
   "execution_count": 30,
   "metadata": {},
   "outputs": [
    {
     "data": {
      "text/plain": [
       "0.697"
      ]
     },
     "execution_count": 30,
     "metadata": {},
     "output_type": "execute_result"
    }
   ],
   "source": [
    "from sklearn.tree import DecisionTreeClassifier\n",
    "from sklearn.model_selection import train_test_split\n",
    "\n",
    "X_train, X_test, y_train, y_test = train_test_split(X,y,test_size=0.3, random_state=42)\n",
    "\n",
    "dtc = DecisionTreeClassifier()\n",
    "dtc.fit(X_train,y_train)\n",
    "dtc.score(X_test,y_test).round(3)"
   ]
  },
  {
   "cell_type": "markdown",
   "metadata": {},
   "source": [
    "So we could try to see how a series of single trees would perform given bootstrap sampling of the data. Note that we would be creating a training and test pair from the existing X_train by samping it with replacement which will result in some duplicated records. After that, we could then use the records that were NOT sampled as a test data set. This is also known as the OOB \"out-of-band\" samples. "
   ]
  },
  {
   "cell_type": "code",
   "execution_count": 77,
   "metadata": {},
   "outputs": [],
   "source": [
    "import numpy as np\n",
    "from sklearn.utils import resample\n",
    "from collections import Counter\n",
    "\n",
    "# Get a bootstrapped sample\n",
    "idx_spl = resample(np.arange(X_train.shape[0]))\n",
    "X_train_spl = X_train.iloc[idx_spl]\n",
    "y_train_spl = y_train.iloc[idx_spl]\n",
    "\n",
    "# Verify that some records are duplicates as per the \n",
    "[count for item, count in Counter(idx_spl).items()][0:10]\n",
    "\n",
    "idx_oob = np.setdiff1d(np.arange(X_train.shape[0]),idx_spl)\n",
    "X_oob = X_train.iloc[idx_oob]\n",
    "y_oob = y_train.iloc[idx_oob]\n"
   ]
  },
  {
   "cell_type": "markdown",
   "metadata": {},
   "source": [
    "Let's make a loop to evaluate 20 trees. Each time through the loop, we will work with a variation of the X_train data and store the predicted OOB accuracy. "
   ]
  },
  {
   "cell_type": "code",
   "execution_count": 100,
   "metadata": {},
   "outputs": [
    {
     "data": {
      "image/png": "[encoded data removed]",
      "text/plain": [
       "<Figure size 576x288 with 2 Axes>"
      ]
     },
     "metadata": {
      "needs_background": "light"
     },
     "output_type": "display_data"
    }
   ],
   "source": [
    "scores = []\n",
    "for ii in range(20):\n",
    "    \n",
    "    # Get a bootstrapped sample\n",
    "    idx_spl = resample(np.arange(X_train.shape[0]))\n",
    "    X_train_spl = X_train.iloc[idx_spl]\n",
    "    y_train_spl = y_train.iloc[idx_spl]\n",
    "\n",
    "\n",
    "    idx_oob = np.setdiff1d(np.arange(X_train.shape[0]),idx_spl)\n",
    "    X_oob = X_train.iloc[idx_oob]\n",
    "    y_oob = y_train.iloc[idx_oob]\n",
    "    \n",
    "    dtc = DecisionTreeClassifier()\n",
    "    dtc.fit(X_train_spl,y_train_spl)\n",
    "    scores.append(dtc.score(X_oob,y_oob).round(3))\n",
    "\n",
    "import matplotlib.pyplot as plt\n",
    "# Creates two subplots and unpacks the output array immediately\n",
    "f, (ax1, ax2) = plt.subplots(1, 2,figsize=(8,4))\n",
    "\n",
    "ax1.plot(range(len(scores)),scores,'go--')\n",
    "ax1.set_title(\"Accuracy Over 20 Trees - OOB\")\n",
    "ax1.grid()\n",
    "\n",
    "ax2.boxplot(scores)\n",
    "ax2.set_title(\"OOB Accuracy for 20 Trees\")\n",
    "ax2.grid()"
   ]
  },
  {
   "cell_type": "markdown",
   "metadata": {},
   "source": [
    "We don't really see a pattern here except that the accuracy varies over a range of values. The highest appears to be around .75 but that's not the median. We haven't attempted to alter any of the default parameters used by the method itself so the variation we see is likely due to the bootstrapping. \n",
    "\n",
    "Now we could experiment with the \"criterion\" and \"splitter\" arguments to see if varying these will impact (or improve) the accuracy of any of the trees we might make. Let's see what we can get from this approach."
   ]
  },
  {
   "cell_type": "code",
   "execution_count": 184,
   "metadata": {},
   "outputs": [
    {
     "name": "stdout",
     "output_type": "stream",
     "text": [
      "Best Combination of paramters :\n",
      "   criterion splitter  accuracy\n",
      "2   entropy     best     0.732\n"
     ]
    }
   ],
   "source": [
    "criterion = ['gini','entropy']\n",
    "splitter = ['best','random']\n",
    "\n",
    "scoring = []\n",
    "for c in criterion:\n",
    "    for s in splitter:\n",
    "         dtc = DecisionTreeClassifier(criterion=c,splitter=s)\n",
    "         dtc.fit(X_train,y_train)\n",
    "         scoring.append([c,s,dtc.score(X_test,y_test).round(3)])\n",
    " \n",
    "score_df = pd.DataFrame(scoring,columns=['criterion','splitter','accuracy'])\n",
    "score_df.sort_values(by=['accuracy'], inplace=True, ascending=False)\n",
    "\n",
    "print(\"Best Combination of paramters :\\n\",score_df.head(1))"
   ]
  },
  {
   "cell_type": "markdown",
   "metadata": {},
   "source": [
    "Well that seems okay but it didn't necessarily improve things although we didn't look at any variations in the data. That is, we didn't do any bootstrapping or cross validation so we the best we could come up with was around .72 accuracy. On the other hand, do we need to be doing this by hand when there is a function that can help us figure out the best parameters to use which is also based on cross fold validation ?"
   ]
  },
  {
   "cell_type": "code",
   "execution_count": 183,
   "metadata": {},
   "outputs": [
    {
     "name": "stdout",
     "output_type": "stream",
     "text": [
      "Best parameters are:  {'criterion': 'entropy', 'splitter': 'best'}\n",
      "Best accuracy:  0.728\n"
     ]
    }
   ],
   "source": [
    "from sklearn.model_selection import GridSearchCV\n",
    "\n",
    "param_grid = [\n",
    "  {'criterion': ['gini','entropy'], \n",
    "   'splitter': ['best','random']}\n",
    "]\n",
    "\n",
    "dtc = DecisionTreeClassifier()\n",
    "gridsearch = GridSearchCV(dtc, param_grid, cv=5, return_train_score=True)\n",
    "gs_results = gridsearch.fit(X_train, y_train)\n",
    "\n",
    "print(\"Best parameters are: \",gs_results.best_params_)\n",
    "print(\"Best accuracy: \",gs_results.best_score_.round(3))"
   ]
  },
  {
   "cell_type": "markdown",
   "metadata": {},
   "source": [
    "So if we move back to the RandomForests we can see that it will do both bootstrapping while building a specified number of trees while producing an aggregate model that can be used to make predictions. Let's rerun it to see what the baseline accuracy might look like. Straight out of the box, it offers a higher level of accuracy than the single DecisionTreeClassifier. "
   ]
  },
  {
   "cell_type": "code",
   "execution_count": 148,
   "metadata": {},
   "outputs": [
    {
     "data": {
      "text/plain": [
       "0.745"
      ]
     },
     "execution_count": 148,
     "metadata": {},
     "output_type": "execute_result"
    }
   ],
   "source": [
    "from sklearn.ensemble import RandomForestClassifier\n",
    "\n",
    "rf = RandomForestClassifier()\n",
    "rf.fit(X_train,y_train)\n",
    "rf.score(X_test,y_test).round(3)"
   ]
  },
  {
   "cell_type": "markdown",
   "metadata": {},
   "source": [
    "Without any tweaking, we see that the Random Forest method seems to produce the best accuracy which isn't that suprising since it looks a number of trees as opposed to a single one. The way bagged trees work is to use bootstrap sampling to look at different versions of the input for each tree that it makes. \n",
    "\n",
    "The number of trees to make is specified before running the function. Since the sampling is bootstrap-based, some of the rows from the input will be duplicated perhaps more than once whereas other rows will not be involved at all in the training. These are commonly known as Out of Bag samples. After a give tree is formed it is then used to predict performance on the OOB samples to arrive at an OOB error.\n",
    "\n",
    "A reasonable question might be, how well does the accuracy perform with a certain number of trees ? "
   ]
  },
  {
   "cell_type": "code",
   "execution_count": 176,
   "metadata": {},
   "outputs": [
    {
     "data": {
      "image/png": "[encoded data removed]",
      "text/plain": [
       "<Figure size 432x288 with 1 Axes>"
      ]
     },
     "metadata": {
      "needs_background": "light"
     },
     "output_type": "display_data"
    }
   ],
   "source": [
    "num_of_trees = [100, 250, 500, 750, 1000,1250,  1500, 1750, 2000]\n",
    "\n",
    "scores = []\n",
    "for ii in num_of_trees:\n",
    "    rf = RandomForestClassifier(n_estimators=ii)\n",
    "    rf.fit(X_train,y_train)\n",
    "    scores.append(rf.score(X_test,y_test).round(3))\n",
    "\n",
    "plt.plot(num_of_trees,scores,'go--')\n",
    "plt.title(\"Accuracy For Various Numbers of Trees\")\n",
    "plt.xticks(rotation=90)\n",
    "plt.grid()"
   ]
  },
  {
   "cell_type": "markdown",
   "metadata": {},
   "source": [
    "As with the single decision tree, we could look at some type of hyperparameter tuning scenario to see if we could improve performance. It seems that even the worst accuracy value for the Random Forest seems to match the best accuracy emerging from the single Decision Tree. "
   ]
  },
  {
   "cell_type": "code",
   "execution_count": 262,
   "metadata": {},
   "outputs": [
    {
     "data": {
      "text/plain": [
       "GridSearchCV(cv=5, estimator=RandomForestClassifier(), n_jobs=-1,\n",
       "             param_grid={'criterion': ['gini', 'entropy'],\n",
       "                         'max_depth': [4, 5, 6, 7, 8],\n",
       "                         'max_features': ['auto', 'sqrt', 'log2'],\n",
       "                         'n_estimators': [200, 500]})"
      ]
     },
     "execution_count": 262,
     "metadata": {},
     "output_type": "execute_result"
    }
   ],
   "source": [
    "param_grid = { \n",
    "    'n_estimators': [200, 500],\n",
    "    'max_features': ['auto', 'sqrt', 'log2'],\n",
    "    'max_depth' : [4,5,6,7,8],\n",
    "    'criterion' :['gini', 'entropy']\n",
    "}\n",
    "\n",
    "rfc = RandomForestClassifier(bootstrap=True)\n",
    "\n",
    "cv_rfc = GridSearchCV(estimator=rfc, \n",
    "                      param_grid=param_grid, \n",
    "                      cv= 5,\n",
    "                      n_jobs=-1)\n",
    "cv_rfc.fit(X_train, y_train)"
   ]
  },
  {
   "cell_type": "code",
   "execution_count": 263,
   "metadata": {},
   "outputs": [
    {
     "data": {
      "text/plain": [
       "{'criterion': 'gini',\n",
       " 'max_depth': 8,\n",
       " 'max_features': 'log2',\n",
       " 'n_estimators': 200}"
      ]
     },
     "execution_count": 263,
     "metadata": {},
     "output_type": "execute_result"
    }
   ],
   "source": [
    "cv_rfc.best_params_"
   ]
  },
  {
   "cell_type": "code",
   "execution_count": 264,
   "metadata": {},
   "outputs": [
    {
     "name": "stdout",
     "output_type": "stream",
     "text": [
      "Best Score:  0.78\n"
     ]
    }
   ],
   "source": [
    "print(\"Best Score: \",cv_rfc.best_score_.round(2))"
   ]
  },
  {
   "cell_type": "code",
   "execution_count": 265,
   "metadata": {},
   "outputs": [
    {
     "data": {
      "text/plain": [
       "0.745"
      ]
     },
     "execution_count": 265,
     "metadata": {},
     "output_type": "execute_result"
    }
   ],
   "source": [
    "from sklearn.metrics import accuracy_score\n",
    "rfc = RandomForestClassifier(bootstrap=True,\n",
    "                             criterion='gini',\n",
    "                             max_depth=6,\n",
    "                             max_features='log2',\n",
    "                             n_estimators=200)\n",
    "\n",
    "ypreds = rfc.fit(X_train,y_train).predict(X_test)\n",
    "accuracy_score(y_test, ypreds).round(3)"
   ]
  },
  {
   "cell_type": "markdown",
   "metadata": {},
   "source": [
    "In reality, we dont' have to refit the random forest because the GridSearchCV process provides the best performing model in the form of **best_estimator_**."
   ]
  },
  {
   "cell_type": "code",
   "execution_count": 269,
   "metadata": {},
   "outputs": [
    {
     "name": "stdout",
     "output_type": "stream",
     "text": [
      "RandomForestClassifier(max_depth=8, max_features='log2', n_estimators=200)\n"
     ]
    },
    {
     "data": {
      "text/plain": [
       "0.753"
      ]
     },
     "execution_count": 269,
     "metadata": {},
     "output_type": "execute_result"
    }
   ],
   "source": [
    "best_rf = cv_rfc.best_estimator_\n",
    "print(best_rf)\n",
    "\n",
    "#\n",
    "ypreds = best_rf.fit(X_train,y_train).predict(X_test)\n",
    "accuracy_score(y_test, ypreds).round(3)"
   ]
  },
  {
   "cell_type": "markdown",
   "metadata": {},
   "source": [
    "There are other types of searches wherein we can specify a distribution or range of values which represent a source to be sampled. That is, not every value will be tried. With GridSearchCV, every combination will be attempted so the search is exhaustive. This is also why doing a gridsearch across a very large parameter space can consume lots of CPU and memory. \n",
    "\n",
    "Random search can be just as aggressive although it is possible to specify how many samples will be taken from a parameter space so as to mitigage possible CPU over load. The **n_iter** of argument, which is 10 by default, indicates the number of times to sample from a parameter. "
   ]
  },
  {
   "cell_type": "code",
   "execution_count": 270,
   "metadata": {},
   "outputs": [
    {
     "name": "stdout",
     "output_type": "stream",
     "text": [
      "Best Params: \n",
      " {'n_estimators': 130, 'min_samples_split': 7, 'min_samples_leaf': 3, 'max_features': 'sqrt', 'max_depth': 100, 'bootstrap': True}\n",
      "Accuracy: {'n_estimators': 130, 'min_samples_split': 7, 'min_samples_leaf': 3, 'max_features': 'sqrt', 'max_depth': 100, 'bootstrap': True}\n"
     ]
    }
   ],
   "source": [
    "from sklearn.model_selection import RandomizedSearchCV\n",
    "\n",
    "random_grid = {'bootstrap': [True, False],\n",
    "               'max_depth': [10, 20, 30, 40, 50, 60, 70, 80, 90, 100, 110, None],\n",
    "               'max_features': ['auto', 'sqrt'],\n",
    "               'min_samples_leaf': range(1,20),\n",
    "               'min_samples_split': range(2,9),\n",
    "               'n_estimators': np.arange(100,1000)}\n",
    "\n",
    "rfc = RandomForestClassifier()\n",
    "rs_rfc = RandomizedSearchCV(estimator=rfc, \n",
    "                            param_distributions=random_grid, \n",
    "                            cv = 5,\n",
    "                            n_iter=15,\n",
    "                            n_jobs=-1,\n",
    "                            random_state=123)\n",
    "\n",
    "rs_rfc.fit(X_train,y_train)\n",
    "print(\"Best Params: \\n\",rs_rfc.best_params_)\n",
    "print(\"Accuracy:\",rs_rfc.best_params_)"
   ]
  },
  {
   "cell_type": "code",
   "execution_count": 272,
   "metadata": {},
   "outputs": [
    {
     "data": {
      "text/plain": [
       "0.762"
      ]
     },
     "execution_count": 272,
     "metadata": {},
     "output_type": "execute_result"
    }
   ],
   "source": [
    "#\n",
    "ypreds = rs_rfc.best_estimator_.predict(X_test)\n",
    "accuracy_score(y_test, ypreds).round(3)"
   ]
  },
  {
   "cell_type": "markdown",
   "metadata": {},
   "source": [
    "## Validation Set\n",
    "\n",
    "When building a model, we generate a training and test data set. We use the former to build a model and, if we are using something like the caret package, that process involves cross fold validation or bootstrap sampling to generate a good estimate for out-of-sample error. We then apply the model to the test data frame.\n",
    "\n",
    "If we are using a method that has hyperparamters then maybe we want an intermediate data set to help validate our ultimate choice of hyperparameters. By taking this approach we can still keep our test data set off to the side for later use with the trained and validated model. Using this idea doesn’t require us to do much beyond generating a third data set.\n",
    "\n",
    "- The training set is used to build the classifier\n",
    "- The validation set is used to tune the algorithm hyperparameters repeatedly. \n",
    "- So there will be some overfitting here, but that is why there is another stage:\n",
    "\n",
    "The test set must not be touched until the classifier is final to prevent \n",
    "overfitting. It serves to estimate the true accuracy, if you would put the model \n",
    "into production. The only problem is that there really isn't a **scikit-learn** function to help us with the creation of the three datasets.  "
   ]
  },
  {
   "cell_type": "code",
   "execution_count": 244,
   "metadata": {},
   "outputs": [
    {
     "data": {
      "text/plain": [
       "0.73"
      ]
     },
     "execution_count": 244,
     "metadata": {},
     "output_type": "execute_result"
    }
   ],
   "source": [
    "train, validate, test = np.split(pm.sample(frac=1), \n",
    "                                 [int(.6*len(pm)), int(.8*len(pm))])\n",
    "\n",
    "rfc = RandomForestClassifier()\n",
    "\n",
    "X_v_train = train.drop('diabetes',axis=1)\n",
    "y_v_train = train.diabetes\n",
    "#\n",
    "X_v_test  = test.drop('diabetes',axis=1)\n",
    "y_v_test  = test.diabetes\n",
    "\n",
    "rfc.fit(X_v_train,y_v_train)\n",
    "rfc.score(X_v_test,y_v_test).round(2)"
   ]
  },
  {
   "cell_type": "markdown",
   "metadata": {},
   "source": [
    "So now we can do hyperparamter tuning using the validation set. The important thing to note here is that we aren't using the test data frame at all to do any training. By using the validation set we are also introducing some needed variation to the hyperparameter tuning process. "
   ]
  },
  {
   "cell_type": "code",
   "execution_count": 273,
   "metadata": {},
   "outputs": [
    {
     "name": "stdout",
     "output_type": "stream",
     "text": [
      "Best Params: \n",
      " {'n_estimators': 934, 'min_samples_split': 5, 'min_samples_leaf': 10, 'max_features': 'sqrt', 'max_depth': 90, 'bootstrap': False}\n",
      "Accuracy: 0.76\n"
     ]
    }
   ],
   "source": [
    "from sklearn.model_selection import RandomizedSearchCV\n",
    "\n",
    "random_grid = {'bootstrap': [True, False],\n",
    "               'max_depth': [10, 20, 30, 40, 50, 60, 70, 80, 90, 100, 110, None],\n",
    "               'max_features': ['auto', 'sqrt'],\n",
    "               'min_samples_leaf': range(1,20),\n",
    "               'min_samples_split': range(2,9),\n",
    "               'n_estimators': np.arange(100,1000)}\n",
    "\n",
    "rfc = RandomForestClassifier()\n",
    "rs_rfc = RandomizedSearchCV(estimator=rfc, \n",
    "                            param_distributions=random_grid, \n",
    "                            cv = 5,\n",
    "                            n_iter=15,\n",
    "                            n_jobs=-1,\n",
    "                            random_state=123)\n",
    "\n",
    "# \n",
    "validate_train_x = validate.drop('diabetes',axis=1)\n",
    "validate_train_y = validate.diabetes\n",
    "\n",
    "# \n",
    "rs_rfc.fit(validate_train_x, validate_train_y)\n",
    "print(\"Best Params: \\n\",rs_rfc.best_params_)\n",
    "print(\"Accuracy:\",rs_rfc.best_score_)"
   ]
  },
  {
   "cell_type": "markdown",
   "metadata": {},
   "source": [
    "And finally, we will fit the Random Forest using the \"optimal\" parameter set after which we will see how it performs on the test dataset. "
   ]
  },
  {
   "cell_type": "code",
   "execution_count": 274,
   "metadata": {},
   "outputs": [
    {
     "data": {
      "text/plain": [
       "0.77"
      ]
     },
     "execution_count": 274,
     "metadata": {},
     "output_type": "execute_result"
    }
   ],
   "source": [
    "rs_rfc.best_estimator_.fit(validate_train_x,validate_train_y)\n",
    "optimal_model.score(X_v_test,y_v_test).round(2)"
   ]
  },
  {
   "cell_type": "markdown",
   "metadata": {},
   "source": [
    "See https://jessesw.com/XG-Boost/"
   ]
  }
 ],
 "metadata": {
  "kernelspec": {
   "display_name": "Python 3",
   "language": "python",
   "name": "python3"
  },
  "language_info": {
   "codemirror_mode": {
    "name": "ipython",
    "version": 3
   },
   "file_extension": ".py",
   "mimetype": "text/x-python",
   "name": "python",
   "nbconvert_exporter": "python",
   "pygments_lexer": "ipython3",
   "version": "3.7.7"
  }
 },
 "nbformat": 4,
 "nbformat_minor": 4
}
